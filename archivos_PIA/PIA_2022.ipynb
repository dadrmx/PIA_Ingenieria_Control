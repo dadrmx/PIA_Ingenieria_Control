{
 "cells": [
  {
   "cell_type": "code",
   "execution_count": null,
   "metadata": {
    "id": "o1r2jA_UWjGA"
   },
   "outputs": [],
   "source": [
    "# !pip install control # Activar si corre en Colab, 1 vez por sesión."
   ]
  },
  {
   "cell_type": "markdown",
   "metadata": {
    "id": "lEGXoxoKWbVv"
   },
   "source": [
    "# Sección de librerías Python"
   ]
  },
  {
   "cell_type": "code",
   "execution_count": null,
   "metadata": {
    "id": "lEGXoxoKWbVv"
   },
   "outputs": [],
   "source": [
    "import numpy as np\n",
    "import scipy.linalg\n",
    "from scipy import signal\n",
    "import matplotlib.pyplot as plt\n",
    "from scipy.integrate import odeint\n",
    "import control as ctl\n",
    "from control.matlab import *\n",
    "from sympy import *"
   ]
  },
  {
   "cell_type": "markdown",
   "metadata": {
    "id": "iXS5jjdHWbVw"
   },
   "source": [
    "# Modelo matemático\n",
    "\n",
    "El modelo matemático nos permite llevar a cabo cálculos de ganancias para el controlador ___Kp___, así como analizar su comportamiento de acuerdo a cambios en parámetros del mismo.\n",
    "\n",
    "Primero introduzcamos la planta con la cual estaremos trabajando:"
   ]
  },
  {
   "cell_type": "code",
   "execution_count": null,
   "metadata": {
    "id": "Daz3Tp2aWbV6"
   },
   "outputs": [],
   "source": [
    "time = np.linspace(0,50,10000)  # Ejemplo genérico, substituir por el sistema modelado.\n",
    "s = TransferFunction.s\n",
    "o_l = 1/(s**3 + 9*s**2 + 8*s) \n",
    "nvo = tf(o_l)\n",
    "\n",
    "# Para calcular el límite de las constantes de error, es necesario obtener límites,\n",
    "# la librería para obtener los límites requiere que la variable sea \"x\".\n",
    "x = symbols('x')\n",
    "FT_xs1_1 = 1/(x**3 + 6*x**2 + 8*x)\n",
    "FT_xs2_1 = x/(x**3 + 6*x**2 + 8*x)\n",
    "FT_xs3_1 = x**2/(x**3 + 6*x**2 + 8*x)\n",
    "\n",
    "########## Impresión del límite de la función.    \n",
    "print(\"Función de transferencia: {}\".format(nvo))  \n",
    "      \n",
    "print(\"Límite de la FT conforme x --> 0 : {}\".format(limit(FT_xs1_1, x, 0)))\n",
    "print(\"Límite de la FT conforme x --> 0 : {}\".format(limit(FT_xs2_1, x, 0)))\n",
    "print(\"Límite de la FT conforme x --> 0 : {}\".format(limit(FT_xs3_1, x, 0)))\n",
    "\n",
    "\n",
    "print(\"Ess A/s Sistema tipo 1: {}\".format(1./(1 + limit(FT_xs1_1, x, 0))))\n",
    "print(\"Ess A/s^2 Sistema tipo 1: {}\".format(1./(limit(FT_xs2_1, x, 0))))\n",
    "print(\"Ess A/s^3 Sistema tipo 1: {}\".format(1./(limit(FT_xs3_1, x, 0))))\n",
    "\n",
    "# Análisis ESS\n",
    "## Step function\n",
    "fb_nvo = feedback(nvo,sign = -1)\n",
    "X0 = 0 # Utilizaremos las mismas condiciones iniciales para todas las simulaciones.\n",
    "\n",
    "t_1 = np.linspace(0,10,10000) # Vamos a utilizar la misma escala y división para todas las simulaciones.\n",
    "\n",
    "y_nvo_s, t_nvo_s = ctl.matlab.step(fb_nvo, t_1, X0)\n",
    "\n",
    "## Ramp function\n",
    "m = 13.33\n",
    "u_ramp = m*time\n",
    "t_nvo_r, y_nvo_r = ctl.forced_response(fb_nvo, t_1, u_ramp)\n",
    "\n",
    "## Parabolic function\n",
    "r = 0.5\n",
    "u_parabola = r*time**2\n",
    "t_nvo_p, y_nvo_p= ctl.forced_response(fb_nvo, t_1, u_parabola)\n",
    "\n",
    "# Ploteo de las señales:\n",
    "plt.subplot(311)\n",
    "plt.plot(t_nvo_s, y_nvo_s)\n",
    "plt.grid(True)\n",
    "plt.ylabel('Escalón')\n",
    "\n",
    "plt.subplot(312)\n",
    "plt.plot(t_nvo_r, y_nvo_r)\n",
    "plt.plot(t_nvo_r, u_ramp) #\n",
    "plt.grid(True)\n",
    "plt.ylabel('Rampa')\n",
    "\n",
    "plt.subplot(313)\n",
    "plt.plot(t_nvo_p, y_nvo_p)\n",
    "plt.plot(t_nvo_p, u_parabola) #\n",
    "plt.grid(True)\n",
    "plt.ylabel('Parábola')\n",
    "\n",
    "plt.tight_layout()\n",
    "plt.show()"
   ]
  },
  {
   "cell_type": "markdown",
   "metadata": {
    "id": "EwfZ5hA5WbV7"
   },
   "source": [
    "# Gráfica del lugar de las raíces\n",
    "\n",
    "De acuerdo al régimen de operación solicitado, calcule el valor de la ganancia K a partir del diagrama de lugar de las raíces."
   ]
  },
  {
   "cell_type": "code",
   "execution_count": null,
   "metadata": {
    "id": "EwfZ5hA5WbV7"
   },
   "outputs": [],
   "source": [
    "ctl.rlocus(nvo);"
   ]
  },
  {
   "cell_type": "markdown",
   "metadata": {
    "id": "ENLnhklrLePR"
   },
   "source": [
    "# Gráfica de Bode del sistema, sólo si se requiere en el diseño"
   ]
  },
  {
   "cell_type": "code",
   "execution_count": null,
   "metadata": {
    "id": "ENLnhklrLePR"
   },
   "outputs": [],
   "source": [
    "ctl.bode_plot(nvo);"
   ]
  },
  {
   "cell_type": "markdown",
   "metadata": {},
   "source": [
    "# Diseño para placa Arduino (sistema discretizado)\n",
    "\n",
    "Cálculo de constantes de control (Kp) para el sistema discreto, el valor obtenido en este cálculo se substituye en el archivo *.ino para correr en la placa de Arduino."
   ]
  },
  {
   "cell_type": "code",
   "execution_count": null,
   "metadata": {},
   "outputs": [],
   "source": [
    "T = 50/1000 # Valor de la velocidad de muestreo de la placa Arduino\n",
    "Zc=exp(T*Pc)"
   ]
  }
 ],
 "metadata": {
  "colab": {
   "name": "Copy of LGR_2021_B.ipynb",
   "provenance": []
  },
  "kernelspec": {
   "display_name": "Python 3",
   "language": "python",
   "name": "python3"
  },
  "language_info": {
   "codemirror_mode": {
    "name": "ipython",
    "version": 3
   },
   "file_extension": ".py",
   "mimetype": "text/x-python",
   "name": "python",
   "nbconvert_exporter": "python",
   "pygments_lexer": "ipython3",
   "version": "3.8.8"
  }
 },
 "nbformat": 4,
 "nbformat_minor": 4
}
